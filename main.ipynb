{
 "cells": [
  {
   "cell_type": "code",
   "execution_count": 1,
   "metadata": {},
   "outputs": [],
   "source": [
    "from database_utils import DatabaseConnector\n",
    "from data_extraction import DataExtractor\n",
    "from IPython.display import display\n",
    "from data_cleaning import DataCleaning\n",
    "from cleaner import DataCleaner\n",
    "import pandas as pd"
   ]
  },
  {
   "cell_type": "code",
   "execution_count": 2,
   "metadata": {},
   "outputs": [],
   "source": [
    "creds_path = '/Users/itsanya/AiCore/MRDC/db_creds.yaml'\n",
    "db_connector_instance = DatabaseConnector(creds_path) \n",
    "data_extractor = DataExtractor(db_connector_instance) \n",
    "data_cleaner = DataCleaning()"
   ]
  },
  {
   "cell_type": "code",
   "execution_count": null,
   "metadata": {},
   "outputs": [],
   "source": [
    "#Legacy Store Details"
   ]
  },
  {
   "cell_type": "code",
   "execution_count": 3,
   "metadata": {},
   "outputs": [
    {
     "name": "stdout",
     "output_type": "stream",
     "text": [
      "<class 'pandas.core.frame.DataFrame'>\n"
     ]
    }
   ],
   "source": [
    "#Extract\n",
    "table_name = 'legacy_store_details'\n",
    "store_df = data_extractor.read_rds_table(table_name)\n",
    "\n",
    "#Clean\n",
    "    \n",
    "    #Numerical columns\n",
    "#1. work through numeric column\n",
    "#2. basic clean - ie remove any non-numerical value from column\n",
    "#3. transform dt of the column (pd.tonumeric()) - opening_date starts here\n",
    "#4. drop.na() - drops all NULLS\n",
    "\n",
    "    #Non-numerical columns\n",
    "#1. df.column_name.unique() - identify unique columns\n",
    "\n",
    "#Example:\n",
    "#clean_store_df = data_cleaning.clean_store_data(store_df)\n",
    "print(type(store_df))\n",
    "\n",
    "#View Data after cleaning\n",
    "#with pd.option_context('display.max_rows', None, 'display.max_columns', None):\n",
    "    #display(clean_store_df)\n",
    "\n"
   ]
  },
  {
   "cell_type": "code",
   "execution_count": null,
   "metadata": {},
   "outputs": [],
   "source": [
    "clean_store_df = data_cleaner.clean_store_data(store_df)\n",
    "#print(clean_store_df)\n",
    "\n",
    "#DataCleaner.clean_store_data(store_df)\n",
    "#DataCleaner.hello('hi my name is sam')\n",
    "\n",
    "#View Data after cleaning\n",
    "with pd.option_context('display.max_rows', None, 'display.max_columns', None):\n",
    "    display(clean_store_df)"
   ]
  },
  {
   "cell_type": "code",
   "execution_count": null,
   "metadata": {},
   "outputs": [],
   "source": [
    "#Legacy Users"
   ]
  },
  {
   "cell_type": "code",
   "execution_count": 4,
   "metadata": {},
   "outputs": [
    {
     "name": "stdout",
     "output_type": "stream",
     "text": [
      "Legacy Users Table\n",
      "    index first_name last_name date_of_birth                    company  \\\n",
      "0      0   Sigfried     Noack    1990-09-30         Heydrich Junitz KG   \n",
      "1      1        Guy     Allen    1940-12-01                    Fox Ltd   \n",
      "2      2      Harry  Lawrence    1995-08-02  Johnson, Jones and Harris   \n",
      "3      3     Darren   Hussain    1972-09-23                Wheeler LLC   \n",
      "4      4      Garry     Stone    1952-12-20                 Warner Inc   \n",
      "\n",
      "                  email_address  \\\n",
      "0             rudi79@winkler.de   \n",
      "1  rhodesclifford@henderson.com   \n",
      "2  glen98@bryant-marshall.co.uk   \n",
      "3    daniellebryan@thompson.org   \n",
      "4       billy14@long-warren.com   \n",
      "\n",
      "                                             address         country  \\\n",
      "0                       Zimmerstr. 1/0\\n59015 Gießen         Germany   \n",
      "1  Studio 22a\\nLynne terrace\\nMcCarthymouth\\nTF0 9GH  United Kingdom   \n",
      "2                 92 Ann drive\\nJoanborough\\nSK0 6LR  United Kingdom   \n",
      "3             19 Robinson meadow\\nNew Tracy\\nW22 2QG  United Kingdom   \n",
      "4              3 White pass\\nHunterborough\\nNN96 4UE  United Kingdom   \n",
      "\n",
      "  country_code       phone_number   join_date  \\\n",
      "0           DE   +49(0) 047905356  2018-10-10   \n",
      "1           GB    (0161) 496 0674  2001-12-20   \n",
      "2           GB  +44(0)121 4960340  2016-12-16   \n",
      "3           GB    (0306) 999 0871  2004-02-23   \n",
      "4           GB      0121 496 0225  2006-09-01   \n",
      "\n",
      "                              user_uuid  \n",
      "0  93caf182-e4e9-4c6e-bebb-60a1a9dcf9b8  \n",
      "1  8fe96c3a-d62d-4eb5-b313-cf12d9126a49  \n",
      "2  fc461df4-b919-48b2-909e-55c95a03fe6b  \n",
      "3  6104719f-ef14-4b09-bf04-fb0c4620acb0  \n",
      "4  9523a6d3-b2dd-4670-a51a-36aebc89f579  \n",
      "\n",
      "\n"
     ]
    }
   ],
   "source": [
    "#Extract\n",
    "table_name = 'legacy_users'\n",
    "users_df = data_extractor.read_rds_table(table_name)\n",
    "print('Legacy Users Table\\n', users_df.head())\n",
    "print('\\n')"
   ]
  },
  {
   "cell_type": "code",
   "execution_count": null,
   "metadata": {},
   "outputs": [],
   "source": []
  },
  {
   "cell_type": "code",
   "execution_count": null,
   "metadata": {},
   "outputs": [],
   "source": [
    "#Extract\n",
    "table_name = 'orders_table'\n",
    "orders_df = data_extractor.read_rds_table(table_name)\n",
    "print('Orders Table Table\\n', orders_df.head())\n",
    "print('\\n')"
   ]
  },
  {
   "cell_type": "code",
   "execution_count": null,
   "metadata": {},
   "outputs": [],
   "source": [
    "table_name = 'legacy_store_details'\n",
    "store_df = data_extractor.read_rds_table(table_name)\n",
    "print('Legacy Store Details Table\\n', store_df.head())\n",
    "print('\\n')"
   ]
  },
  {
   "cell_type": "code",
   "execution_count": null,
   "metadata": {},
   "outputs": [],
   "source": [
    "table_name = 'legacy_users'\n",
    "users_df = data_extractor.read_rds_table(table_name)\n",
    "print('Legacy Users Table\\n', users_df.head())\n",
    "print('\\n')"
   ]
  },
  {
   "cell_type": "code",
   "execution_count": null,
   "metadata": {},
   "outputs": [],
   "source": [
    "#important code\n",
    "import re\n",
    "pattern = re.compile(r'^\\D+$')\n",
    "non_numeric_last_names = users_df[~users_df['last_name'].astype(str).str.match(pattern, na=False)]\n",
    "display(non_numeric_last_names)"
   ]
  }
 ],
 "metadata": {
  "kernelspec": {
   "display_name": "Python 3",
   "language": "python",
   "name": "python3"
  },
  "language_info": {
   "codemirror_mode": {
    "name": "ipython",
    "version": 3
   },
   "file_extension": ".py",
   "mimetype": "text/x-python",
   "name": "python",
   "nbconvert_exporter": "python",
   "pygments_lexer": "ipython3",
   "version": "3.12.0"
  }
 },
 "nbformat": 4,
 "nbformat_minor": 2
}
