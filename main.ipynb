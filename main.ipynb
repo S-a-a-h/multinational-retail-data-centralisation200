{
 "cells": [
  {
   "cell_type": "code",
   "execution_count": 9,
   "metadata": {},
   "outputs": [],
   "source": [
    "from database_utils import DatabaseConnector\n",
    "from data_extraction import DataExtractor\n",
    "from data_cleaning import DataCleaning\n",
    "from data_processing import DataProcessor\n",
    "from IPython.display import display\n",
    "import pandas as pd"
   ]
  },
  {
   "cell_type": "code",
   "execution_count": 10,
   "metadata": {},
   "outputs": [],
   "source": [
    "#Data Extraction Details\n",
    "creds_path = '/Users/itsanya/AiCore/MRDC/db_creds.yaml'\n",
    "\n",
    "pdf_link = 'https://data-handling-public.s3.eu-west-1.amazonaws.com/card_details.pdf'\n",
    "\n",
    "b_store_api_key = 'yFBQbwXe9J3sd6zWVAMrK6lcxxr0q1lr2PT6DDMX'\n",
    "number_of_stores_endpoint = 'https://aqj7u5id95.execute-api.eu-west-1.amazonaws.com/prod/number_stores'\n",
    "store_endpoint = 'https://aqj7u5id95.execute-api.eu-west-1.amazonaws.com/prod/store_details/{store_number}'\n",
    "\n",
    "s3_address = 's3://data-handling-public/products.csv' "
   ]
  },
  {
   "cell_type": "code",
   "execution_count": 11,
   "metadata": {},
   "outputs": [],
   "source": [
    "#Classes Usage\n",
    "db_connector_instance = DatabaseConnector(creds_path) \n",
    "data_extractor = DataExtractor(db_connector_instance) \n",
    "data_cleaner = DataCleaning()\n",
    "data_processor = DataProcessor()"
   ]
  },
  {
   "cell_type": "code",
   "execution_count": 12,
   "metadata": {},
   "outputs": [],
   "source": [
    "#Legacy Users\n",
    "#Extract\n",
    "#table_name = 'legacy_users'\n",
    "#users_df = data_extractor.read_rds_table(table_name)\n",
    "\n",
    "#View\n",
    "#display(users_df)\n",
    "\n",
    "#Clean\n",
    "#fully_cleaned_users_df = data_cleaner.clean_users_df(users_df)\n",
    "\n",
    "#View Cleaned DataFrame\n",
    "#display(fully_cleaned_users_df)\n",
    "\n",
    "#Upload to dim_users\n",
    "#db_connector_instance.upload_to_db(df=fully_cleaned_users_df, table_name='dim_users')"
   ]
  },
  {
   "cell_type": "code",
   "execution_count": 13,
   "metadata": {},
   "outputs": [],
   "source": [
    "#Card Data\n",
    "#Extract\n",
    "#card_df = data_extractor.retrieve_pdf_data(pdf_link)\n",
    "\n",
    "#View\n",
    "#display(card_df)\n",
    "#card_df.info()\n",
    "\n",
    "#Clean\n",
    "#fully_cleaned_card_df = data_cleaner.clean_card_data(card_df)\n",
    "\n",
    "#View Cleaned DataFrame\n",
    "#display(fully_cleaned_card_df)\n",
    "\n",
    "#Upload to dim_card_details\n",
    "#db_connector_instance.upload_to_db(df=fully_cleaned_card_df, table_name='dim_card_details')"
   ]
  },
  {
   "cell_type": "code",
   "execution_count": 14,
   "metadata": {},
   "outputs": [],
   "source": [
    "#Business Store Data\n",
    "#Extract\n",
    "#data_extractor.set_api_key(b_store_api_key)\n",
    "\n",
    "#number_of_stores = data_extractor.list_number_of_stores(number_of_stores_endpoint)\n",
    "#number_of_stores = int(number_of_stores)\n",
    "\n",
    "#b_store_df = data_extractor.retrieve_stores_data(store_endpoint, number_of_stores)\n",
    "\n",
    "#View\n",
    "#b_store_df.head()\n",
    "\n",
    "#Clean\n",
    "#fully_cleaned_b_store_df = data_cleaner.clean_store_data(b_store_df)\n",
    "\n",
    "#View Cleaned DataFrame\n",
    "#fully_cleaned_b_store_df.head()\n",
    "\n",
    "#Upload to dim_store_details\n",
    "#db_connector_instance.upload_to_db(df=fully_cleaned_b_store_df, table_name='dim_store_details')"
   ]
  },
  {
   "cell_type": "code",
   "execution_count": 15,
   "metadata": {},
   "outputs": [
    {
     "name": "stdout",
     "output_type": "stream",
     "text": [
      "Data uploaded to 'dim_products' table successfully.\n"
     ]
    }
   ],
   "source": [
    "#Products Data\n",
    "#Extract\n",
    "prods_df = data_extractor.extract_from_s3(s3_address)\n",
    "\n",
    "#View\n",
    "#prods_df.head()\n",
    "\n",
    "#Clean\n",
    "cleaned_prod_w = data_cleaner.convert_product_weights(prods_df)\n",
    "fully_cleaned_prods_df = data_cleaner.clean_products_data(cleaned_prod_w)\n",
    "\n",
    "#View Cleaned DataFrame\n",
    "#cleaned_prod_w.head()\n",
    "fully_cleaned_prods_df.head()\n",
    "\n",
    "#Upload to dim_store_details\n",
    "db_connector_instance.upload_to_db(df=fully_cleaned_prods_df, table_name='dim_products')"
   ]
  },
  {
   "cell_type": "code",
   "execution_count": null,
   "metadata": {},
   "outputs": [],
   "source": []
  }
 ],
 "metadata": {
  "kernelspec": {
   "display_name": "Python 3",
   "language": "python",
   "name": "python3"
  },
  "language_info": {
   "codemirror_mode": {
    "name": "ipython",
    "version": 3
   },
   "file_extension": ".py",
   "mimetype": "text/x-python",
   "name": "python",
   "nbconvert_exporter": "python",
   "pygments_lexer": "ipython3",
   "version": "3.12.0"
  }
 },
 "nbformat": 4,
 "nbformat_minor": 2
}
