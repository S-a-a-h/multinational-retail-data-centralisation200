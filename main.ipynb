{
 "cells": [
  {
   "cell_type": "code",
   "execution_count": null,
   "metadata": {},
   "outputs": [],
   "source": [
    "'''\n",
    "Multidimensional Retail Data Centralization\n",
    "-------\n",
    "This script extracts data, cleans and uploads it all to designated tables in sales_data database.\n",
    "Methods have been predefined so variables are set to organize the extraction, cleaning and uploading process for each set of data.\n",
    "\n",
    "Contents\n",
    "-------\n",
    "    * Imports \n",
    "    * Data Extraction Details - assigning urls/links, endpoints and api-keys necessary to run the code.\n",
    "    * Classes Usage - instance created and initialized and variables assigned to each class.\n",
    "\n",
    "    The listed cell blocks perform the following for each dataset: Data Extraction, Transformation and Loading to sales_data.\n",
    "    * Legacy Users\n",
    "    * Card Data\n",
    "    * Business Store Data\n",
    "    * Products Data\n",
    "    * Orders Table\n",
    "    * Sales Date Times\n",
    "\n",
    "'''"
   ]
  },
  {
   "cell_type": "code",
   "execution_count": null,
   "metadata": {},
   "outputs": [],
   "source": [
    "#Imports\n",
    "from database_utils import DatabaseConnector\n",
    "from data_cleaning import DataCleaning\n",
    "from data_extraction import DataExtractor\n",
    "from data_processing import DataProcessor"
   ]
  },
  {
   "cell_type": "code",
   "execution_count": null,
   "metadata": {},
   "outputs": [],
   "source": [
    "#Data Extraction Details\n",
    "creds_path = '/Users/itsanya/AiCore/MRDC/db_creds.yaml'\n",
    "\n",
    "pdf_link = 'https://data-handling-public.s3.eu-west-1.amazonaws.com/card_details.pdf'\n",
    "\n",
    "b_store_api_key = 'yFBQbwXe9J3sd6zWVAMrK6lcxxr0q1lr2PT6DDMX'\n",
    "number_of_stores_endpoint = 'https://aqj7u5id95.execute-api.eu-west-1.amazonaws.com/prod/number_stores'\n",
    "store_endpoint = 'https://aqj7u5id95.execute-api.eu-west-1.amazonaws.com/prod/store_details/{store_number}'\n",
    "\n",
    "s3_address = 's3://data-handling-public/products.csv' \n",
    "\n",
    "s3_url = 'https://data-handling-public.s3.eu-west-1.amazonaws.com/date_details.json'"
   ]
  },
  {
   "cell_type": "code",
   "execution_count": null,
   "metadata": {},
   "outputs": [],
   "source": [
    "#Classes Usage\n",
    "db_connector_instance = DatabaseConnector(creds_path) \n",
    "data_extractor = DataExtractor(db_connector_instance) \n",
    "data_cleaner = DataCleaning()\n",
    "data_processor = DataProcessor()"
   ]
  },
  {
   "cell_type": "code",
   "execution_count": null,
   "metadata": {},
   "outputs": [],
   "source": [
    "#Legacy Users\n",
    "#Extract\n",
    "table_name = 'legacy_users'\n",
    "users_df = data_extractor.read_rds_table(table_name)\n",
    "\n",
    "#Clean\n",
    "fully_cleaned_users_df = data_cleaner._clean_users_df(users_df)\n",
    "\n",
    "#Upload to dim_users\n",
    "db_connector_instance._upload_to_db(df=fully_cleaned_users_df, table_name='dim_users')"
   ]
  },
  {
   "cell_type": "code",
   "execution_count": null,
   "metadata": {},
   "outputs": [],
   "source": [
    "#Card Data\n",
    "#Extract\n",
    "card_df = data_extractor.retrieve_pdf_data()\n",
    "\n",
    "#Clean\n",
    "fully_cleaned_card_df = data_cleaner._clean_card_data(card_df)\n",
    "\n",
    "#Upload to dim_card_details\n",
    "db_connector_instance._upload_to_db(df=fully_cleaned_card_df, table_name='dim_card_details')"
   ]
  },
  {
   "cell_type": "code",
   "execution_count": null,
   "metadata": {},
   "outputs": [],
   "source": [
    "#Business Store Data\n",
    "#Extract\n",
    "data_extractor.set_api_key(b_store_api_key)\n",
    "number_of_stores = data_extractor.list_number_of_stores(number_of_stores_endpoint)\n",
    "b_store_df = data_extractor.retrieve_stores_data(store_endpoint, number_of_stores)\n",
    "\n",
    "#Clean\n",
    "fully_cleaned_b_store_df = data_cleaner._clean_b_store_data(b_store_df)\n",
    "\n",
    "#Upload to dim_store_details\n",
    "db_connector_instance._upload_to_db(df=fully_cleaned_b_store_df, table_name='dim_store_details')"
   ]
  },
  {
   "cell_type": "code",
   "execution_count": null,
   "metadata": {},
   "outputs": [],
   "source": [
    "#Products Data\n",
    "#Extract\n",
    "prods_df = data_extractor.extract_from_s3(s3_address)\n",
    "\n",
    "#Clean\n",
    "cleaned_prod_w = data_cleaner._convert_product_weights(prods_df)\n",
    "\n",
    "fully_cleaned_prods_df = data_cleaner._clean_products_data(cleaned_prod_w)\n",
    "\n",
    "#Upload to dim_store_details\n",
    "db_connector_instance._upload_to_db(df=fully_cleaned_prods_df, table_name='dim_products')"
   ]
  },
  {
   "cell_type": "code",
   "execution_count": null,
   "metadata": {},
   "outputs": [],
   "source": [
    "#Orders Table\n",
    "#Extract\n",
    "table_name = 'orders_table'\n",
    "orders_df = data_extractor.read_rds_table(table_name)\n",
    "\n",
    "#Clean\n",
    "fully_cleaned_orders_df = data_cleaner._clean_orders_df(orders_df)\n",
    "\n",
    "#Upload to orders_table\n",
    "db_connector_instance._upload_to_db(df=fully_cleaned_orders_df, table_name='orders_table')"
   ]
  },
  {
   "cell_type": "code",
   "execution_count": null,
   "metadata": {},
   "outputs": [],
   "source": [
    "#Sales Date Times\n",
    "#Extract\n",
    "sdt_df = data_extractor.extract_sdt(s3_url)\n",
    "\n",
    "#Clean\n",
    "fully_cleaned_sdt_df = data_cleaner._clean_sdt_df(sdt_df)\n",
    "\n",
    "#Upload to dim_date_times\n",
    "db_connector_instance._upload_to_db(df=fully_cleaned_sdt_df, table_name='dim_date_times')"
   ]
  }
 ],
 "metadata": {
  "kernelspec": {
   "display_name": "Python 3",
   "language": "python",
   "name": "python3"
  },
  "language_info": {
   "codemirror_mode": {
    "name": "ipython",
    "version": 3
   },
   "file_extension": ".py",
   "mimetype": "text/x-python",
   "name": "python",
   "nbconvert_exporter": "python",
   "pygments_lexer": "ipython3",
   "version": "3.12.0"
  }
 },
 "nbformat": 4,
 "nbformat_minor": 2
}
