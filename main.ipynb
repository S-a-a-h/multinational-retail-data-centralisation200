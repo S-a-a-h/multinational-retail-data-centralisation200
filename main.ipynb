{
 "cells": [
  {
   "cell_type": "code",
   "execution_count": 1,
   "metadata": {},
   "outputs": [],
   "source": [
    "from database_utils import DatabaseConnector\n",
    "from data_extraction import DataExtractor\n",
    "from data_cleaning import DataCleaning\n",
    "from data_processing import DataProcessor\n",
    "from IPython.display import display\n",
    "import pandas as pd"
   ]
  },
  {
   "cell_type": "code",
   "execution_count": 2,
   "metadata": {},
   "outputs": [],
   "source": [
    "creds_path = '/Users/itsanya/AiCore/MRDC/db_creds.yaml'\n",
    "db_connector_instance = DatabaseConnector(creds_path) \n",
    "data_extractor = DataExtractor(db_connector_instance) \n",
    "data_cleaner = DataCleaning()\n",
    "data_processor = DataProcessor()"
   ]
  },
  {
   "cell_type": "code",
   "execution_count": 3,
   "metadata": {},
   "outputs": [
    {
     "ename": "TypeError",
     "evalue": "DataCleaning.clean_users_df() takes 1 positional argument but 2 were given",
     "output_type": "error",
     "traceback": [
      "\u001b[0;31m---------------------------------------------------------------------------\u001b[0m",
      "\u001b[0;31mTypeError\u001b[0m                                 Traceback (most recent call last)",
      "Cell \u001b[0;32mIn[3], line 10\u001b[0m\n\u001b[1;32m      4\u001b[0m users_df \u001b[38;5;241m=\u001b[39m data_extractor\u001b[38;5;241m.\u001b[39mread_rds_table(table_name)\n\u001b[1;32m      6\u001b[0m \u001b[38;5;66;03m#View\u001b[39;00m\n\u001b[1;32m      7\u001b[0m \u001b[38;5;66;03m#display(users_df)\u001b[39;00m\n\u001b[1;32m      8\u001b[0m \n\u001b[1;32m      9\u001b[0m \u001b[38;5;66;03m#Clean\u001b[39;00m\n\u001b[0;32m---> 10\u001b[0m fully_cleaned_users_df \u001b[38;5;241m=\u001b[39m \u001b[43mdata_cleaner\u001b[49m\u001b[38;5;241;43m.\u001b[39;49m\u001b[43mclean_users_df\u001b[49m\u001b[43m(\u001b[49m\u001b[43musers_df\u001b[49m\u001b[43m)\u001b[49m\n\u001b[1;32m     12\u001b[0m \u001b[38;5;66;03m#View Cleaned DataFrame\u001b[39;00m\n\u001b[1;32m     13\u001b[0m \u001b[38;5;66;03m#display(cleaned_users_df)\u001b[39;00m\n\u001b[1;32m     14\u001b[0m \n\u001b[1;32m     15\u001b[0m \u001b[38;5;66;03m#Upload to dim_users\u001b[39;00m\n\u001b[1;32m     16\u001b[0m \u001b[38;5;66;03m#db_connector_instance.upload_to_db(table_name='dim_users', df=cleaned_users_df)\u001b[39;00m\n",
      "\u001b[0;31mTypeError\u001b[0m: DataCleaning.clean_users_df() takes 1 positional argument but 2 were given"
     ]
    }
   ],
   "source": [
    "#Legacy Users\n",
    "#Extract\n",
    "table_name = 'legacy_users'\n",
    "users_df = data_extractor.read_rds_table(table_name)\n",
    "\n",
    "#View\n",
    "#display(users_df)\n",
    "\n",
    "#Clean\n",
    "fully_cleaned_users_df = data_cleaner.clean_users_df(users_df)\n",
    "\n",
    "#View Cleaned DataFrame\n",
    "#display(cleaned_users_df)\n",
    "\n",
    "#Upload to dim_users\n",
    "#db_connector_instance.upload_to_db(table_name='dim_users', df=cleaned_users_df)"
   ]
  },
  {
   "cell_type": "code",
   "execution_count": null,
   "metadata": {},
   "outputs": [],
   "source": [
    "#Legacy Store Details\n",
    "#Extract\n",
    "#table_name = 'legacy_store_details'\n",
    "#store_df = data_extractor.read_rds_table(table_name)\n",
    "\n",
    "#Clean\n",
    "\n",
    "\n",
    "#View Cleaned Data\n",
    "#with pd.option_context('display.max_rows', None, 'display.max_columns', None):\n",
    "    #display(clean_store_df)"
   ]
  },
  {
   "cell_type": "code",
   "execution_count": null,
   "metadata": {},
   "outputs": [],
   "source": [
    "#Orders Table\n",
    "#Extract\n",
    "#table_name = 'orders_table'\n",
    "#orders_df = data_extractor.read_rds_table(table_name)\n",
    "\n",
    "#Clean\n",
    "\n",
    "\n",
    "#View Cleaned Data\n",
    "#with pd.option_context('display.max_rows', None, 'display.max_columns', None):\n",
    "    #display(clean_store_df)\n",
    "\n",
    "#Upload to ... "
   ]
  }
 ],
 "metadata": {
  "kernelspec": {
   "display_name": "Python 3",
   "language": "python",
   "name": "python3"
  },
  "language_info": {
   "codemirror_mode": {
    "name": "ipython",
    "version": 3
   },
   "file_extension": ".py",
   "mimetype": "text/x-python",
   "name": "python",
   "nbconvert_exporter": "python",
   "pygments_lexer": "ipython3",
   "version": "3.12.0"
  }
 },
 "nbformat": 4,
 "nbformat_minor": 2
}
