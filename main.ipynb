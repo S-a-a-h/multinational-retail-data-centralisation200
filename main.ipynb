{
 "cells": [
  {
   "cell_type": "code",
   "execution_count": 1,
   "metadata": {},
   "outputs": [],
   "source": [
    "from database_utils import DatabaseConnector\n",
    "from data_extraction import DataExtractor\n",
    "from data_cleaning import DataCleaning\n",
    "from data_processing import DataProcessor\n",
    "from IPython.display import display\n",
    "import pandas as pd\n",
    "import jdk"
   ]
  },
  {
   "cell_type": "code",
   "execution_count": 2,
   "metadata": {},
   "outputs": [],
   "source": [
    "creds_path = '/Users/itsanya/AiCore/MRDC/db_creds.yaml'\n",
    "api_key = 'yFBQbwXe9J3sd6zWVAMrK6lcxxr0q1lr2PT6DDMX'\n",
    "\n",
    "db_connector_instance = DatabaseConnector(creds_path) \n",
    "data_extractor = DataExtractor(db_connector_instance) \n",
    "api_data_extractor = DataExtractor(db_connector_instance, api_key)\n",
    "\n",
    "data_cleaner = DataCleaning()\n",
    "data_processor = DataProcessor() "
   ]
  },
  {
   "cell_type": "code",
   "execution_count": 3,
   "metadata": {},
   "outputs": [],
   "source": [
    "#Legacy Users\n",
    "#Extract\n",
    "#table_name = 'legacy_users'\n",
    "#users_df = data_extractor.read_rds_table(table_name)\n",
    "\n",
    "#View\n",
    "#display(users_df)\n",
    "\n",
    "#Clean\n",
    "#fully_cleaned_users_df = data_cleaner.clean_users_df(users_df)\n",
    "\n",
    "#View Cleaned DataFrame\n",
    "#display(fully_cleaned_users_df)\n",
    "\n",
    "#Upload to dim_users\n",
    "#db_connector_instance.upload_to_db(df=fully_cleaned_users_df, table_name='dim_users')"
   ]
  },
  {
   "cell_type": "code",
   "execution_count": 4,
   "metadata": {},
   "outputs": [
    {
     "name": "stderr",
     "output_type": "stream",
     "text": [
      "Error importing jpype dependencies. Fallback to subprocess.\n",
      "No module named 'jpype'\n"
     ]
    },
    {
     "name": "stdout",
     "output_type": "stream",
     "text": [
      "200\n"
     ]
    }
   ],
   "source": [
    "#Card Data\n",
    "#Extract\n",
    "pdf_link = 'https://data-handling-public.s3.eu-west-1.amazonaws.com/card_details.pdf'\n",
    "card_df = data_extractor.retrieve_pdf_data(pdf_link)\n",
    "\n",
    "#View\n",
    "#display(card_df)\n",
    "\n",
    "#column: card_details\n",
    "#.tonumeric()\n",
    "#card_df['card_details'].unique()\n",
    "#shortest_card_number = min(card_df['card_number'], key=len)\n",
    "#print(\"Value with the shortest length:\", shortest_card_number)\n",
    "\n",
    "#column: card_provider\n",
    "#card_df['card_provider'].unique()\n",
    "\n",
    "#Clean\n",
    "#fully_cleaned_card_df = data_cleaner.clean_card_data(card_df)\n",
    "\n",
    "#View Cleaned DataFrame\n",
    "#display(fully_cleaned_card_df)\n",
    "\n",
    "#Upload to dim_card_details\n",
    "#db_connector_instance.upload_to_db(df=fully_cleaned_card_df, table_name='dim_card_details')"
   ]
  },
  {
   "cell_type": "code",
   "execution_count": null,
   "metadata": {},
   "outputs": [],
   "source": [
    "#Business Store Data\n",
    "#Extract\n",
    "number_of_stores_endpoint = 'https://aqj7u5id95.execute-api.eu-west-1.amazonaws.com/prod/number_stores'\n",
    "number_of_stores = data_extractor.list_number_of_stores(number_of_stores_endpoint)\n",
    "\n",
    "\n",
    "\n",
    "#View\n",
    "#display(b_store_df)\n",
    "\n",
    "#Clean\n",
    "#fully_cleaned_b_store_df = data_cleaner.clean_store_data(b_store_df)\n",
    "\n",
    "#View Cleaned DataFrame\n",
    "#display(fully_cleaned_b_store_df)\n",
    "\n",
    "#Upload to dim_store_details\n",
    "#db_connector_instance.upload_to_db(df=fully_cleaned_b_store_df, table_name='dim_store_details')"
   ]
  },
  {
   "cell_type": "code",
   "execution_count": null,
   "metadata": {},
   "outputs": [],
   "source": [
    "#Legacy Store Details\n",
    "#Extract\n",
    "#table_name = 'legacy_store_details'\n",
    "#store_df = data_extractor.read_rds_table(table_name)\n",
    "\n",
    "#Clean\n",
    "\n",
    "\n",
    "#View Cleaned Data\n",
    "#with pd.option_context('display.max_rows', None, 'display.max_columns', None):\n",
    "    #display(clean_store_df)"
   ]
  },
  {
   "cell_type": "code",
   "execution_count": null,
   "metadata": {},
   "outputs": [],
   "source": [
    "#Orders Table\n",
    "#Extract\n",
    "#table_name = 'orders_table'\n",
    "#orders_df = data_extractor.read_rds_table(table_name)\n",
    "\n",
    "#Clean\n",
    "\n",
    "\n",
    "#View Cleaned Data\n",
    "#with pd.option_context('display.max_rows', None, 'display.max_columns', None):\n",
    "    #display(clean_store_df)\n",
    "\n",
    "#Upload to ... "
   ]
  }
 ],
 "metadata": {
  "kernelspec": {
   "display_name": "Python 3",
   "language": "python",
   "name": "python3"
  },
  "language_info": {
   "codemirror_mode": {
    "name": "ipython",
    "version": 3
   },
   "file_extension": ".py",
   "mimetype": "text/x-python",
   "name": "python",
   "nbconvert_exporter": "python",
   "pygments_lexer": "ipython3",
   "version": "3.12.0"
  }
 },
 "nbformat": 4,
 "nbformat_minor": 2
}
