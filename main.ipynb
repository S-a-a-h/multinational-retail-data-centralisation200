{
 "cells": [
  {
   "cell_type": "code",
   "execution_count": 96,
   "metadata": {},
   "outputs": [],
   "source": [
    "from database_utils import DatabaseConnector\n",
    "from data_extraction import DataExtractor\n",
    "from IPython.display import display\n",
    "from data_cleaning import DataCleaning\n",
    "from cleaner import DataCleaner\n",
    "import pandas as pd"
   ]
  },
  {
   "cell_type": "code",
   "execution_count": 94,
   "metadata": {},
   "outputs": [],
   "source": [
    "creds_path = '/Users/itsanya/AiCore/MRDC/db_creds.yaml'\n",
    "db_connector_instance = DatabaseConnector(creds_path) \n",
    "data_extractor = DataExtractor(db_connector_instance) \n",
    "data_cleaner = DataCleaning()"
   ]
  },
  {
   "cell_type": "code",
   "execution_count": 7,
   "metadata": {},
   "outputs": [],
   "source": [
    "#Legacy Store Details"
   ]
  },
  {
   "cell_type": "code",
   "execution_count": 98,
   "metadata": {},
   "outputs": [
    {
     "name": "stdout",
     "output_type": "stream",
     "text": [
      "<class 'pandas.core.frame.DataFrame'>\n"
     ]
    }
   ],
   "source": [
    "#Extract\n",
    "table_name = 'legacy_store_details'\n",
    "store_df = data_extractor.read_rds_table(table_name)\n",
    "\n",
    "#Clean\n",
    "    \n",
    "    #Numerical columns\n",
    "#1. work through numeric column\n",
    "#2. basic clean - ie remove any non-numerical value from column\n",
    "#3. transform dt of the column (pd.tonumeric()) - opening_date starts here\n",
    "#4. drop.na() - drops all NULLS\n",
    "\n",
    "    #Non-numerical columns\n",
    "#1. df.column_name.unique() - identify unique columns\n",
    "\n",
    "#Example:\n",
    "#clean_store_df = data_cleaning.clean_store_data(store_df)\n",
    "print(type(store_df))\n",
    "\n",
    "#View Data after cleaning\n",
    "#with pd.option_context('display.max_rows', None, 'display.max_columns', None):\n",
    "    #display(clean_store_df)\n",
    "\n"
   ]
  },
  {
   "cell_type": "code",
   "execution_count": 97,
   "metadata": {},
   "outputs": [
    {
     "ename": "TypeError",
     "evalue": "DataCleaner.hello() takes 0 positional arguments but 1 was given",
     "output_type": "error",
     "traceback": [
      "\u001b[0;31m---------------------------------------------------------------------------\u001b[0m",
      "\u001b[0;31mTypeError\u001b[0m                                 Traceback (most recent call last)",
      "Cell \u001b[0;32mIn[97], line 5\u001b[0m\n\u001b[1;32m      1\u001b[0m \u001b[38;5;66;03m#clean_store_df = data_cleaning.clean_store_data(store_df)\u001b[39;00m\n\u001b[1;32m      2\u001b[0m \u001b[38;5;66;03m#print(clean_store_df)\u001b[39;00m\n\u001b[1;32m      3\u001b[0m \n\u001b[1;32m      4\u001b[0m \u001b[38;5;66;03m#DataCleaner.clean_store_data(store_df)\u001b[39;00m\n\u001b[0;32m----> 5\u001b[0m \u001b[43mDataCleaner\u001b[49m\u001b[38;5;241;43m.\u001b[39;49m\u001b[43mhello\u001b[49m\u001b[43m(\u001b[49m\u001b[38;5;124;43m'\u001b[39;49m\u001b[38;5;124;43mhi my name is sam\u001b[39;49m\u001b[38;5;124;43m'\u001b[39;49m\u001b[43m)\u001b[49m\n\u001b[1;32m      7\u001b[0m \u001b[38;5;66;03m#View Data after cleaning\u001b[39;00m\n\u001b[1;32m      8\u001b[0m \u001b[38;5;66;03m#with pd.option_context('display.max_rows', None, 'display.max_columns', None):\u001b[39;00m\n\u001b[1;32m      9\u001b[0m     \u001b[38;5;66;03m#display(clean_store_df)\u001b[39;00m\n",
      "\u001b[0;31mTypeError\u001b[0m: DataCleaner.hello() takes 0 positional arguments but 1 was given"
     ]
    }
   ],
   "source": [
    "#clean_store_df = data_cleaning.clean_store_data(store_df)\n",
    "#print(clean_store_df)\n",
    "\n",
    "#DataCleaner.clean_store_data(store_df)\n",
    "DataCleaner.hello('hi my name is sam')\n",
    "\n",
    "#View Data after cleaning\n",
    "#with pd.option_context('display.max_rows', None, 'display.max_columns', None):\n",
    "    #display(clean_store_df)"
   ]
  },
  {
   "cell_type": "code",
   "execution_count": null,
   "metadata": {},
   "outputs": [],
   "source": [
    "#Legacy Users"
   ]
  },
  {
   "cell_type": "code",
   "execution_count": null,
   "metadata": {},
   "outputs": [],
   "source": [
    "table_to_extract = 'legacy_users'\n",
    "users_df = data_extractor.read_rds_table(table_to_extract)\n",
    "print('Legacy Users Table\\n', users_df.head())\n",
    "print('\\n')"
   ]
  },
  {
   "cell_type": "code",
   "execution_count": null,
   "metadata": {},
   "outputs": [],
   "source": [
    "table_to_extract = 'orders_table'\n",
    "orders_df = data_extractor.read_rds_table(table_to_extract)\n",
    "print('Orders Table Table\\n', orders_df.head())\n",
    "print('\\n')"
   ]
  },
  {
   "cell_type": "code",
   "execution_count": null,
   "metadata": {},
   "outputs": [],
   "source": []
  }
 ],
 "metadata": {
  "kernelspec": {
   "display_name": "Python 3",
   "language": "python",
   "name": "python3"
  },
  "language_info": {
   "codemirror_mode": {
    "name": "ipython",
    "version": 3
   },
   "file_extension": ".py",
   "mimetype": "text/x-python",
   "name": "python",
   "nbconvert_exporter": "python",
   "pygments_lexer": "ipython3",
   "version": "3.12.0"
  }
 },
 "nbformat": 4,
 "nbformat_minor": 2
}
