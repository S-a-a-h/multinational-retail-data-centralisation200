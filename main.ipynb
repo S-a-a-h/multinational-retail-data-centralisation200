{
 "cells": [
  {
   "cell_type": "code",
   "execution_count": 1,
   "metadata": {},
   "outputs": [
    {
     "data": {
      "text/plain": [
       "'\\nMultidimensional Retail Data Centralization\\n-------\\nThis script extracts data, cleans and uploads it all to designated tables in sales_data database.\\nMethods have been predefined so variables are set to organize the extraction, cleaning and uploading process for each set of data.\\n\\nContents\\n-------\\n    * Imports \\n    * Data Extraction Details - assigning urls/links, endpoints and api-keys necessary to run the code\\n    * Classes Usage - instance created and initialized and variables assigned to each class\\n\\n    These cell blocks perform the following: Data Extraction, Transformation and Loading to sales_data\\n    * Legacy Users\\n    * Card Data\\n    * Business Store Data\\n    * Products Data\\n    * Orders Table\\n    * Sales Date Times\\n\\n'"
      ]
     },
     "execution_count": 1,
     "metadata": {},
     "output_type": "execute_result"
    }
   ],
   "source": [
    "'''\n",
    "Multidimensional Retail Data Centralization\n",
    "-------\n",
    "This script extracts data, cleans and uploads it all to designated tables in sales_data database.\n",
    "Methods have been predefined so variables are set to organize the extraction, cleaning and uploading process for each set of data.\n",
    "\n",
    "Contents\n",
    "-------\n",
    "    * Imports \n",
    "    * Data Extraction Details - assigning urls/links, endpoints and api-keys necessary to run the code\n",
    "    * Classes Usage - instance created and initialized and variables assigned to each class\n",
    "\n",
    "    These cell blocks perform the following: Data Extraction, Transformation and Loading to sales_data\n",
    "    * Legacy Users\n",
    "    * Card Data\n",
    "    * Business Store Data\n",
    "    * Products Data\n",
    "    * Orders Table\n",
    "    * Sales Date Times\n",
    "\n",
    "'''"
   ]
  },
  {
   "cell_type": "code",
   "execution_count": 2,
   "metadata": {},
   "outputs": [],
   "source": [
    "#Imports\n",
    "from database_utils import DatabaseConnector\n",
    "from data_cleaning import DataCleaning\n",
    "from data_extraction import DataExtractor\n",
    "from data_processing import DataProcessor"
   ]
  },
  {
   "cell_type": "code",
   "execution_count": 3,
   "metadata": {},
   "outputs": [],
   "source": [
    "#Data Extraction Details\n",
    "creds_path = '/Users/itsanya/AiCore/MRDC/db_creds.yaml'\n",
    "\n",
    "pdf_link = 'https://data-handling-public.s3.eu-west-1.amazonaws.com/card_details.pdf'\n",
    "\n",
    "b_store_api_key = 'yFBQbwXe9J3sd6zWVAMrK6lcxxr0q1lr2PT6DDMX'\n",
    "number_of_stores_endpoint = 'https://aqj7u5id95.execute-api.eu-west-1.amazonaws.com/prod/number_stores'\n",
    "store_endpoint = 'https://aqj7u5id95.execute-api.eu-west-1.amazonaws.com/prod/store_details/{store_number}'\n",
    "\n",
    "s3_address = 's3://data-handling-public/products.csv' \n",
    "\n",
    "s3_url = 'https://data-handling-public.s3.eu-west-1.amazonaws.com/date_details.json'"
   ]
  },
  {
   "cell_type": "code",
   "execution_count": 4,
   "metadata": {},
   "outputs": [],
   "source": [
    "#Classes Usage\n",
    "db_connector_instance = DatabaseConnector(creds_path) \n",
    "data_extractor = DataExtractor(db_connector_instance) \n",
    "data_cleaner = DataCleaning()\n",
    "data_processor = DataProcessor()"
   ]
  },
  {
   "cell_type": "code",
   "execution_count": 5,
   "metadata": {},
   "outputs": [
    {
     "name": "stderr",
     "output_type": "stream",
     "text": [
      "/Users/itsanya/AiCore/MRDC/data_processing.py:118: SettingWithCopyWarning: \n",
      "A value is trying to be set on a copy of a slice from a DataFrame.\n",
      "Try using .loc[row_indexer,col_indexer] = value instead\n",
      "\n",
      "See the caveats in the documentation: https://pandas.pydata.org/pandas-docs/stable/user_guide/indexing.html#returning-a-view-versus-a-copy\n",
      "  df[column_name] = df[column_name].apply(lambda address: str(address).replace('\\n', ' ') if pd.notna(address) else address)\n"
     ]
    },
    {
     "name": "stdout",
     "output_type": "stream",
     "text": [
      "Data uploaded to 'dim_users' table successfully.\n"
     ]
    }
   ],
   "source": [
    "#Legacy Users\n",
    "#Extract\n",
    "table_name = 'legacy_users'\n",
    "users_df = data_extractor.read_rds_table(table_name)\n",
    "\n",
    "#Clean\n",
    "fully_cleaned_users_df = data_cleaner.clean_users_df(users_df)\n",
    "\n",
    "#Upload to dim_users\n",
    "db_connector_instance._upload_to_db(df=fully_cleaned_users_df, table_name='dim_users')"
   ]
  },
  {
   "cell_type": "code",
   "execution_count": 6,
   "metadata": {},
   "outputs": [
    {
     "name": "stderr",
     "output_type": "stream",
     "text": [
      "Error importing jpype dependencies. Fallback to subprocess.\n",
      "No module named 'jpype'\n"
     ]
    },
    {
     "name": "stdout",
     "output_type": "stream",
     "text": [
      "Data uploaded to 'dim_card_details' table successfully.\n"
     ]
    }
   ],
   "source": [
    "#Card Data\n",
    "#Extract\n",
    "card_df = data_extractor._retrieve_pdf_data(pdf_link)\n",
    "\n",
    "#Clean\n",
    "fully_cleaned_card_df = data_cleaner.clean_card_data(card_df)\n",
    "\n",
    "#Upload to dim_card_details\n",
    "db_connector_instance._upload_to_db(df=fully_cleaned_card_df, table_name='dim_card_details')"
   ]
  },
  {
   "cell_type": "code",
   "execution_count": 7,
   "metadata": {},
   "outputs": [
    {
     "name": "stdout",
     "output_type": "stream",
     "text": [
      "Number of stores: 451\n",
      "Data uploaded to 'dim_store_details' table successfully.\n"
     ]
    },
    {
     "name": "stderr",
     "output_type": "stream",
     "text": [
      "/Users/itsanya/AiCore/MRDC/data_processing.py:128: SettingWithCopyWarning: \n",
      "A value is trying to be set on a copy of a slice from a DataFrame\n",
      "\n",
      "See the caveats in the documentation: https://pandas.pydata.org/pandas-docs/stable/user_guide/indexing.html#returning-a-view-versus-a-copy\n",
      "  df.drop(columns=column_names, inplace=True)\n",
      "/Users/itsanya/AiCore/MRDC/data_processing.py:51: SettingWithCopyWarning: \n",
      "A value is trying to be set on a copy of a slice from a DataFrame.\n",
      "Try using .loc[row_indexer,col_indexer] = value instead\n",
      "\n",
      "See the caveats in the documentation: https://pandas.pydata.org/pandas-docs/stable/user_guide/indexing.html#returning-a-view-versus-a-copy\n",
      "  b_store_df[column_name] = pd.to_numeric(b_store_df[column_name], errors='coerce')\n",
      "/Users/itsanya/AiCore/MRDC/data_processing.py:118: SettingWithCopyWarning: \n",
      "A value is trying to be set on a copy of a slice from a DataFrame.\n",
      "Try using .loc[row_indexer,col_indexer] = value instead\n",
      "\n",
      "See the caveats in the documentation: https://pandas.pydata.org/pandas-docs/stable/user_guide/indexing.html#returning-a-view-versus-a-copy\n",
      "  df[column_name] = df[column_name].apply(lambda address: str(address).replace('\\n', ' ') if pd.notna(address) else address)\n",
      "/Users/itsanya/AiCore/MRDC/data_processing.py:123: SettingWithCopyWarning: \n",
      "A value is trying to be set on a copy of a slice from a DataFrame.\n",
      "Try using .loc[row_indexer,col_indexer] = value instead\n",
      "\n",
      "See the caveats in the documentation: https://pandas.pydata.org/pandas-docs/stable/user_guide/indexing.html#returning-a-view-versus-a-copy\n",
      "  df[column_names] = df[column_names].apply(pd.to_datetime, errors='coerce')\n"
     ]
    }
   ],
   "source": [
    "#Business Store Data\n",
    "#Extract\n",
    "data_extractor.set_api_key(b_store_api_key)\n",
    "\n",
    "number_of_stores = data_extractor.list_number_of_stores(number_of_stores_endpoint)\n",
    "\n",
    "b_store_df = data_extractor.retrieve_stores_data(store_endpoint, number_of_stores)\n",
    "\n",
    "#Clean\n",
    "fully_cleaned_b_store_df = data_cleaner.clean_store_data(b_store_df)\n",
    "\n",
    "#Upload to dim_store_details\n",
    "db_connector_instance._upload_to_db(df=fully_cleaned_b_store_df, table_name='dim_store_details')"
   ]
  },
  {
   "cell_type": "code",
   "execution_count": 8,
   "metadata": {},
   "outputs": [
    {
     "name": "stdout",
     "output_type": "stream",
     "text": [
      "Data uploaded to 'dim_products' table successfully.\n"
     ]
    },
    {
     "name": "stderr",
     "output_type": "stream",
     "text": [
      "/Users/itsanya/AiCore/MRDC/data_processing.py:123: SettingWithCopyWarning: \n",
      "A value is trying to be set on a copy of a slice from a DataFrame.\n",
      "Try using .loc[row_indexer,col_indexer] = value instead\n",
      "\n",
      "See the caveats in the documentation: https://pandas.pydata.org/pandas-docs/stable/user_guide/indexing.html#returning-a-view-versus-a-copy\n",
      "  df[column_names] = df[column_names].apply(pd.to_datetime, errors='coerce')\n"
     ]
    }
   ],
   "source": [
    "#Products Data\n",
    "#Extract\n",
    "prods_df = data_extractor.extract_from_s3(s3_address)\n",
    "\n",
    "#Clean\n",
    "cleaned_prod_w = data_cleaner.convert_product_weights(prods_df)\n",
    "fully_cleaned_prods_df = data_cleaner.clean_products_data(cleaned_prod_w)\n",
    "\n",
    "#Upload to dim_store_details\n",
    "db_connector_instance._upload_to_db(df=fully_cleaned_prods_df, table_name='dim_products')"
   ]
  },
  {
   "cell_type": "code",
   "execution_count": 9,
   "metadata": {},
   "outputs": [
    {
     "name": "stdout",
     "output_type": "stream",
     "text": [
      "Data uploaded to 'orders_table' table successfully.\n"
     ]
    }
   ],
   "source": [
    "#Orders Table\n",
    "#Extract\n",
    "table_name = 'orders_table'\n",
    "orders_df = data_extractor.read_rds_table(table_name)\n",
    "\n",
    "#Clean\n",
    "fully_cleaned_orders_df = data_cleaner.clean_orders_df(orders_df)\n",
    "\n",
    "#Upload to orders_table\n",
    "db_connector_instance._upload_to_db(df=fully_cleaned_orders_df, table_name='orders_table')"
   ]
  },
  {
   "cell_type": "code",
   "execution_count": 10,
   "metadata": {},
   "outputs": [
    {
     "name": "stderr",
     "output_type": "stream",
     "text": [
      "/Users/itsanya/AiCore/MRDC/data_processing.py:91: UserWarning: Could not infer format, so each element will be parsed individually, falling back to `dateutil`. To ensure parsing is consistent and as-expected, please specify a format.\n",
      "  sdt_df['timestamp'] = pd.to_datetime(sdt_df['timestamp'], errors='coerce')\n"
     ]
    },
    {
     "name": "stdout",
     "output_type": "stream",
     "text": [
      "Data uploaded to 'dim_date_times' table successfully.\n"
     ]
    }
   ],
   "source": [
    "#Sales Date Times\n",
    "#Extract\n",
    "sdt_df = data_extractor.extract_sdt(s3_url)\n",
    "\n",
    "#Clean\n",
    "fully_cleaned_sdt_df = data_cleaner.clean_sdt_df(sdt_df)\n",
    "\n",
    "#Upload to dim_date_times\n",
    "db_connector_instance._upload_to_db(df=fully_cleaned_sdt_df, table_name='dim_date_times')"
   ]
  }
 ],
 "metadata": {
  "kernelspec": {
   "display_name": "Python 3",
   "language": "python",
   "name": "python3"
  },
  "language_info": {
   "codemirror_mode": {
    "name": "ipython",
    "version": 3
   },
   "file_extension": ".py",
   "mimetype": "text/x-python",
   "name": "python",
   "nbconvert_exporter": "python",
   "pygments_lexer": "ipython3",
   "version": "3.12.0"
  }
 },
 "nbformat": 4,
 "nbformat_minor": 2
}
