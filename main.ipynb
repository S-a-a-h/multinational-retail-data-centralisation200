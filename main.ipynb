{
 "cells": [
  {
   "cell_type": "code",
   "execution_count": 96,
   "metadata": {},
   "outputs": [],
   "source": [
    "from database_utils import DatabaseConnector\n",
    "from data_extraction import DataExtractor\n",
    "from IPython.display import display\n",
    "from data_cleaning import DataCleaning\n",
    "from cleaner import DataCleaner\n",
    "import pandas as pd"
   ]
  },
  {
   "cell_type": "code",
   "execution_count": 94,
   "metadata": {},
   "outputs": [],
   "source": [
    "creds_path = '/Users/itsanya/AiCore/MRDC/db_creds.yaml'\n",
    "db_connector_instance = DatabaseConnector(creds_path) \n",
    "data_extractor = DataExtractor(db_connector_instance) \n",
    "data_cleaner = DataCleaning()"
   ]
  },
  {
   "cell_type": "code",
   "execution_count": 7,
   "metadata": {},
   "outputs": [],
   "source": [
    "#Legacy Store Details"
   ]
  },
  {
   "cell_type": "code",
   "execution_count": 98,
   "metadata": {},
   "outputs": [
    {
     "name": "stdout",
     "output_type": "stream",
     "text": [
      "<class 'pandas.core.frame.DataFrame'>\n"
     ]
    }
   ],
   "source": [
    "#Extract\n",
    "table_name = 'legacy_store_details'\n",
    "store_df = data_extractor.read_rds_table(table_name)\n",
    "\n",
    "#Clean\n",
    "    \n",
    "    #Numerical columns\n",
    "#1. work through numeric column\n",
    "#2. basic clean - ie remove any non-numerical value from column\n",
    "#3. transform dt of the column (pd.tonumeric()) - opening_date starts here\n",
    "#4. drop.na() - drops all NULLS\n",
    "\n",
    "    #Non-numerical columns\n",
    "#1. df.column_name.unique() - identify unique columns\n",
    "\n",
    "#Example:\n",
    "#clean_store_df = data_cleaning.clean_store_data(store_df)\n",
    "print(type(store_df))\n",
    "\n",
    "#View Data after cleaning\n",
    "#with pd.option_context('display.max_rows', None, 'display.max_columns', None):\n",
    "    #display(clean_store_df)\n",
    "\n"
   ]
  },
  {
   "cell_type": "code",
   "execution_count": 97,
   "metadata": {},
   "outputs": [
    {
     "ename": "TypeError",
     "evalue": "DataCleaner.hello() takes 0 positional arguments but 1 was given",
     "output_type": "error",
     "traceback": [
      "\u001b[0;31m---------------------------------------------------------------------------\u001b[0m",
      "\u001b[0;31mTypeError\u001b[0m                                 Traceback (most recent call last)",
      "Cell \u001b[0;32mIn[97], line 5\u001b[0m\n\u001b[1;32m      1\u001b[0m \u001b[38;5;66;03m#clean_store_df = data_cleaning.clean_store_data(store_df)\u001b[39;00m\n\u001b[1;32m      2\u001b[0m \u001b[38;5;66;03m#print(clean_store_df)\u001b[39;00m\n\u001b[1;32m      3\u001b[0m \n\u001b[1;32m      4\u001b[0m \u001b[38;5;66;03m#DataCleaner.clean_store_data(store_df)\u001b[39;00m\n\u001b[0;32m----> 5\u001b[0m \u001b[43mDataCleaner\u001b[49m\u001b[38;5;241;43m.\u001b[39;49m\u001b[43mhello\u001b[49m\u001b[43m(\u001b[49m\u001b[38;5;124;43m'\u001b[39;49m\u001b[38;5;124;43mhi my name is sam\u001b[39;49m\u001b[38;5;124;43m'\u001b[39;49m\u001b[43m)\u001b[49m\n\u001b[1;32m      7\u001b[0m \u001b[38;5;66;03m#View Data after cleaning\u001b[39;00m\n\u001b[1;32m      8\u001b[0m \u001b[38;5;66;03m#with pd.option_context('display.max_rows', None, 'display.max_columns', None):\u001b[39;00m\n\u001b[1;32m      9\u001b[0m     \u001b[38;5;66;03m#display(clean_store_df)\u001b[39;00m\n",
      "\u001b[0;31mTypeError\u001b[0m: DataCleaner.hello() takes 0 positional arguments but 1 was given"
     ]
    }
   ],
   "source": [
    "#clean_store_df = data_cleaning.clean_store_data(store_df)\n",
    "#print(clean_store_df)\n",
    "\n",
    "#DataCleaner.clean_store_data(store_df)\n",
    "DataCleaner.hello('hi my name is sam')\n",
    "\n",
    "#View Data after cleaning\n",
    "#with pd.option_context('display.max_rows', None, 'display.max_columns', None):\n",
    "    #display(clean_store_df)"
   ]
  },
  {
   "cell_type": "code",
   "execution_count": null,
   "metadata": {},
   "outputs": [],
   "source": [
    "#Legacy Users"
   ]
  },
  {
   "cell_type": "code",
   "execution_count": 101,
   "metadata": {},
   "outputs": [
    {
     "name": "stdout",
     "output_type": "stream",
     "text": [
      "Legacy Users Table\n",
      "    index first_name last_name date_of_birth                    company  \\\n",
      "0      0   Sigfried     Noack    1990-09-30         Heydrich Junitz KG   \n",
      "1      1        Guy     Allen    1940-12-01                    Fox Ltd   \n",
      "2      2      Harry  Lawrence    1995-08-02  Johnson, Jones and Harris   \n",
      "3      3     Darren   Hussain    1972-09-23                Wheeler LLC   \n",
      "4      4      Garry     Stone    1952-12-20                 Warner Inc   \n",
      "\n",
      "                  email_address  \\\n",
      "0             rudi79@winkler.de   \n",
      "1  rhodesclifford@henderson.com   \n",
      "2  glen98@bryant-marshall.co.uk   \n",
      "3    daniellebryan@thompson.org   \n",
      "4       billy14@long-warren.com   \n",
      "\n",
      "                                             address         country  \\\n",
      "0                       Zimmerstr. 1/0\\n59015 Gießen         Germany   \n",
      "1  Studio 22a\\nLynne terrace\\nMcCarthymouth\\nTF0 9GH  United Kingdom   \n",
      "2                 92 Ann drive\\nJoanborough\\nSK0 6LR  United Kingdom   \n",
      "3             19 Robinson meadow\\nNew Tracy\\nW22 2QG  United Kingdom   \n",
      "4              3 White pass\\nHunterborough\\nNN96 4UE  United Kingdom   \n",
      "\n",
      "  country_code       phone_number   join_date  \\\n",
      "0           DE   +49(0) 047905356  2018-10-10   \n",
      "1           GB    (0161) 496 0674  2001-12-20   \n",
      "2           GB  +44(0)121 4960340  2016-12-16   \n",
      "3           GB    (0306) 999 0871  2004-02-23   \n",
      "4           GB      0121 496 0225  2006-09-01   \n",
      "\n",
      "                              user_uuid  \n",
      "0  93caf182-e4e9-4c6e-bebb-60a1a9dcf9b8  \n",
      "1  8fe96c3a-d62d-4eb5-b313-cf12d9126a49  \n",
      "2  fc461df4-b919-48b2-909e-55c95a03fe6b  \n",
      "3  6104719f-ef14-4b09-bf04-fb0c4620acb0  \n",
      "4  9523a6d3-b2dd-4670-a51a-36aebc89f579  \n",
      "\n",
      "\n"
     ]
    }
   ],
   "source": [
    "table_name = 'legacy_users'\n",
    "users_df = data_extractor.read_rds_table(table_name)\n",
    "print('Legacy Users Table\\n', users_df.head())\n",
    "print('\\n')"
   ]
  },
  {
   "cell_type": "code",
   "execution_count": null,
   "metadata": {},
   "outputs": [],
   "source": [
    "table_name = 'orders_table'\n",
    "orders_df = data_extractor.read_rds_table(table_name)\n",
    "print('Orders Table Table\\n', orders_df.head())\n",
    "print('\\n')"
   ]
  },
  {
   "cell_type": "code",
   "execution_count": 125,
   "metadata": {},
   "outputs": [
    {
     "name": "stdout",
     "output_type": "stream",
     "text": [
      "Legacy Store Details Table\n",
      "    index                                            address longitude   lat  \\\n",
      "0      1  Flat 72W\\nSally isle\\nEast Deantown\\nE7B 8EB, ...  51.62907  None   \n",
      "1      2        Heckerstraße 4/5\\n50491 Säckingen, Landshut  48.52961  None   \n",
      "2      3  5 Harrison tunnel\\nSouth Lydia\\nWC9 2BE, Westbury     51.26  None   \n",
      "3      4  Studio 6\\nStephen landing\\nSouth Simon\\nB77 2W...   53.0233  None   \n",
      "4      5  Flat 92u\\nChristian harbors\\nPort Charlotte\\nN...  53.38333  None   \n",
      "\n",
      "       locality   store_code staff_numbers opening_date   store_type  \\\n",
      "0  High Wycombe  HI-9B97EE4E            34   1996-10-25        Local   \n",
      "1      Landshut  LA-0772C7B9            92   2013-04-12  Super Store   \n",
      "2      Westbury  WE-1DE82CEE            69   2014-01-02  Super Store   \n",
      "3        Belper  BE-18074576            35   2019-09-09        Local   \n",
      "4  Gainsborough  GA-CAD01AC2            36   1995-05-15        Local   \n",
      "\n",
      "   latitude country_code continent  \n",
      "0  -0.74934           GB    Europe  \n",
      "1  12.16179           DE    Europe  \n",
      "2   -2.1875           GB    Europe  \n",
      "3  -1.48119           GB    Europe  \n",
      "4  -0.76667           GB    Europe  \n",
      "\n",
      "\n"
     ]
    }
   ],
   "source": [
    "table_name = 'legacy_store_details'\n",
    "store_df = data_extractor.read_rds_table(table_name)\n",
    "print('Legacy Store Details Table\\n', store_df.head())\n",
    "print('\\n')"
   ]
  },
  {
   "cell_type": "code",
   "execution_count": null,
   "metadata": {},
   "outputs": [],
   "source": []
  }
 ],
 "metadata": {
  "kernelspec": {
   "display_name": "Python 3",
   "language": "python",
   "name": "python3"
  },
  "language_info": {
   "codemirror_mode": {
    "name": "ipython",
    "version": 3
   },
   "file_extension": ".py",
   "mimetype": "text/x-python",
   "name": "python",
   "nbconvert_exporter": "python",
   "pygments_lexer": "ipython3",
   "version": "3.12.0"
  }
 },
 "nbformat": 4,
 "nbformat_minor": 2
}
