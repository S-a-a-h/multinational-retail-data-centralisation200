{
 "cells": [
  {
   "cell_type": "code",
   "execution_count": 1,
   "metadata": {},
   "outputs": [
    {
     "ename": "NameError",
     "evalue": "name 'db_connector' is not defined",
     "output_type": "error",
     "traceback": [
      "\u001b[0;31m---------------------------------------------------------------------------\u001b[0m",
      "\u001b[0;31mNameError\u001b[0m                                 Traceback (most recent call last)",
      "Cell \u001b[0;32mIn[1], line 46\u001b[0m\n\u001b[1;32m     44\u001b[0m creds_path \u001b[38;5;241m=\u001b[39m \u001b[38;5;124m'\u001b[39m\u001b[38;5;124m/Users/itsanya/AiCore/MRDC/db_creds.yaml\u001b[39m\u001b[38;5;124m'\u001b[39m\n\u001b[1;32m     45\u001b[0m db_connector_instance \u001b[38;5;241m=\u001b[39m DatabaseConnector(creds_path) \n\u001b[0;32m---> 46\u001b[0m data_extractor \u001b[38;5;241m=\u001b[39m DataExtractor(\u001b[43mdb_connector\u001b[49m)  \n\u001b[1;32m     48\u001b[0m table_to_extract \u001b[38;5;241m=\u001b[39m \u001b[38;5;124m'\u001b[39m\u001b[38;5;124mlegacy_store_details\u001b[39m\u001b[38;5;124m'\u001b[39m\n\u001b[1;32m     49\u001b[0m legacy_store_details_df \u001b[38;5;241m=\u001b[39m data_extractor\u001b[38;5;241m.\u001b[39mread_rds_table(table_to_extract)\n",
      "\u001b[0;31mNameError\u001b[0m: name 'db_connector' is not defined"
     ]
    }
   ],
   "source": [
    "import yaml\n",
    "from sqlalchemy import create_engine, inspect\n",
    "\n",
    "\n",
    "class DatabaseConnector:\n",
    "    def __init__(self, creds_path):\n",
    "        self.creds_path = creds_path\n",
    "        self.engine = self.init_db_engine()\n",
    "\n",
    "    def read_db_creds(self):\n",
    "        with open(self.creds_path, 'r') as creds:\n",
    "            credentials = yaml.safe_load(creds)\n",
    "        return dict(credentials)\n",
    "    \n",
    "    def init_db_engine(self):\n",
    "        credentials = self.read_db_creds()\n",
    "        db_url = f\"postgresql://{credentials['RDS_USER']}:{credentials['RDS_PASSWORD']}@{credentials['RDS_HOST']}:{credentials['RDS_PORT']}/{credentials['RDS_DATABASE']}\"\n",
    "        engine = create_engine(db_url)\n",
    "        return engine    \n",
    "\n",
    "    def list_db_tables(self):\n",
    "        inspector = inspect(self.engine)\n",
    "        table_names = inspector.get_table_names()\n",
    "        return table_names    \n",
    "\n",
    "\n",
    "\n",
    "import pandas as pd\n",
    "from database_utils import DatabaseConnector\n",
    "\n",
    "class DataExtractor:\n",
    "\n",
    "    def __init__(self, database_connector):\n",
    "        self.database_connector = database_connector\n",
    "    \n",
    "    def read_rds_table(self, table_name):\n",
    "        tables = self.database_connector.list_db_tables()\n",
    "        \n",
    "        if table_name in tables:\n",
    "            engine = self.database_connector.engine\n",
    "            return pd.read_sql_table(table_name, con=engine)\n",
    "\n",
    "\n",
    "creds_path = '/Users/itsanya/AiCore/MRDC/db_creds.yaml'\n",
    "db_connector_instance = DatabaseConnector(creds_path) \n",
    "data_extractor = DataExtractor(db_connector)  \n",
    "\n",
    "table_to_extract = 'legacy_store_details'\n",
    "legacy_store_details_df = data_extractor.read_rds_table(table_to_extract)\n",
    "print('Legacy Store Details Table\\n', legacy_store_details_df.head())\n",
    "print('\\n')\n",
    "\n",
    "table_to_extract = 'legacy_users'\n",
    "legacy_users_df = data_extractor.read_rds_table(table_to_extract)\n",
    "print('Legacy Users Table\\n', legacy_users_df.head())\n",
    "print('\\n')\n",
    "\n",
    "table_to_extract = 'orders_table'\n",
    "orders_table_df = data_extractor.read_rds_table(table_to_extract)\n",
    "print('Orders Table Table\\n', orders_table_df.head())\n",
    "print('\\n')"
   ]
  },
  {
   "cell_type": "code",
   "execution_count": null,
   "metadata": {},
   "outputs": [
    {
     "ename": "NameError",
     "evalue": "name 'legacy_store_details_df' is not defined",
     "output_type": "error",
     "traceback": [
      "\u001b[0;31m---------------------------------------------------------------------------\u001b[0m",
      "\u001b[0;31mNameError\u001b[0m                                 Traceback (most recent call last)",
      "Cell \u001b[0;32mIn[3], line 2\u001b[0m\n\u001b[1;32m      1\u001b[0m \u001b[38;5;28;01mwith\u001b[39;00m pd\u001b[38;5;241m.\u001b[39moption_context(\u001b[38;5;124m'\u001b[39m\u001b[38;5;124mdisplay.max_rows\u001b[39m\u001b[38;5;124m'\u001b[39m, \u001b[38;5;28;01mNone\u001b[39;00m, \u001b[38;5;124m'\u001b[39m\u001b[38;5;124mdisplay.max_columns\u001b[39m\u001b[38;5;124m'\u001b[39m, \u001b[38;5;28;01mNone\u001b[39;00m): \n\u001b[0;32m----> 2\u001b[0m     \u001b[38;5;28mprint\u001b[39m(\u001b[43mlegacy_store_details_df\u001b[49m)\n",
      "\u001b[0;31mNameError\u001b[0m: name 'legacy_store_details_df' is not defined"
     ]
    }
   ],
   "source": [
    "with pd.option_context('display.max_rows', None, 'display.max_columns', None): \n",
    "    print(legacy_store_details_df)"
   ]
  },
  {
   "cell_type": "code",
   "execution_count": null,
   "metadata": {},
   "outputs": [
    {
     "ename": "NameError",
     "evalue": "name 'legacy_users_df' is not defined",
     "output_type": "error",
     "traceback": [
      "\u001b[0;31m---------------------------------------------------------------------------\u001b[0m",
      "\u001b[0;31mNameError\u001b[0m                                 Traceback (most recent call last)",
      "Cell \u001b[0;32mIn[4], line 2\u001b[0m\n\u001b[1;32m      1\u001b[0m \u001b[38;5;28;01mwith\u001b[39;00m pd\u001b[38;5;241m.\u001b[39moption_context(\u001b[38;5;124m'\u001b[39m\u001b[38;5;124mdisplay.max_rows\u001b[39m\u001b[38;5;124m'\u001b[39m, \u001b[38;5;28;01mNone\u001b[39;00m, \u001b[38;5;124m'\u001b[39m\u001b[38;5;124mdisplay.max_columns\u001b[39m\u001b[38;5;124m'\u001b[39m, \u001b[38;5;28;01mNone\u001b[39;00m): \n\u001b[0;32m----> 2\u001b[0m     \u001b[38;5;28mprint\u001b[39m(\u001b[43mlegacy_users_df\u001b[49m)\n",
      "\u001b[0;31mNameError\u001b[0m: name 'legacy_users_df' is not defined"
     ]
    }
   ],
   "source": [
    "with pd.option_context('display.max_rows', None, 'display.max_columns', None): \n",
    "    print(legacy_users_df)"
   ]
  },
  {
   "cell_type": "code",
   "execution_count": null,
   "metadata": {},
   "outputs": [],
   "source": [
    "with pd.option_context('display.max_rows', None, 'display.max_columns', None): \n",
    "    print(orders_table_df)"
   ]
  },
  {
   "cell_type": "code",
   "execution_count": null,
   "metadata": {},
   "outputs": [
    {
     "ename": "NameError",
     "evalue": "name 'legacy_store_details_df' is not defined",
     "output_type": "error",
     "traceback": [
      "\u001b[0;31m---------------------------------------------------------------------------\u001b[0m",
      "\u001b[0;31mNameError\u001b[0m                                 Traceback (most recent call last)",
      "Cell \u001b[0;32mIn[7], line 1\u001b[0m\n\u001b[0;32m----> 1\u001b[0m \u001b[43mlegacy_store_details_df\u001b[49m\u001b[38;5;241m.\u001b[39mcolumns\u001b[38;5;241m.\u001b[39mvalues\u001b[38;5;241m.\u001b[39mtolist()\n\u001b[1;32m      2\u001b[0m legacy_users_df\u001b[38;5;241m.\u001b[39mcolumns\u001b[38;5;241m.\u001b[39mvalues\u001b[38;5;241m.\u001b[39mtolist()\n\u001b[1;32m      3\u001b[0m orders_table_df\u001b[38;5;241m.\u001b[39mcolumns\u001b[38;5;241m.\u001b[39mvalues\u001b[38;5;241m.\u001b[39mtolist()\n",
      "\u001b[0;31mNameError\u001b[0m: name 'legacy_store_details_df' is not defined"
     ]
    }
   ],
   "source": [
    "legacy_store_details_df.columns.values.tolist()\n",
    "legacy_users_df.columns.values.tolist()\n",
    "orders_table_df.columns.values.tolist()"
   ]
  },
  {
   "cell_type": "code",
   "execution_count": null,
   "metadata": {},
   "outputs": [],
   "source": [
    "legacy_store_details_df['lat'].unique()"
   ]
  },
  {
   "cell_type": "code",
   "execution_count": null,
   "metadata": {},
   "outputs": [],
   "source": [
    "legacy_users_df['...'].unique()"
   ]
  },
  {
   "cell_type": "code",
   "execution_count": null,
   "metadata": {},
   "outputs": [],
   "source": [
    "orders_table_df['...'].unique()"
   ]
  }
 ],
 "metadata": {
  "kernelspec": {
   "display_name": "Python 3",
   "language": "python",
   "name": "python3"
  },
  "language_info": {
   "codemirror_mode": {
    "name": "ipython",
    "version": 3
   },
   "file_extension": ".py",
   "mimetype": "text/x-python",
   "name": "python",
   "nbconvert_exporter": "python",
   "pygments_lexer": "ipython3",
   "version": "3.12.0"
  }
 },
 "nbformat": 4,
 "nbformat_minor": 2
}
