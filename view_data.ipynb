{
 "cells": [
  {
   "cell_type": "code",
   "execution_count": 2,
   "metadata": {},
   "outputs": [
    {
     "name": "stdout",
     "output_type": "stream",
     "text": [
      "Legacy Store Details Table\n",
      "    index                                            address longitude   lat  \\\n",
      "0      1  Flat 72W\\nSally isle\\nEast Deantown\\nE7B 8EB, ...  51.62907  None   \n",
      "1      2        Heckerstraße 4/5\\n50491 Säckingen, Landshut  48.52961  None   \n",
      "2      3  5 Harrison tunnel\\nSouth Lydia\\nWC9 2BE, Westbury     51.26  None   \n",
      "3      4  Studio 6\\nStephen landing\\nSouth Simon\\nB77 2W...   53.0233  None   \n",
      "4      5  Flat 92u\\nChristian harbors\\nPort Charlotte\\nN...  53.38333  None   \n",
      "\n",
      "       locality   store_code staff_numbers opening_date   store_type  \\\n",
      "0  High Wycombe  HI-9B97EE4E            34   1996-10-25        Local   \n",
      "1      Landshut  LA-0772C7B9            92   2013-04-12  Super Store   \n",
      "2      Westbury  WE-1DE82CEE            69   2014-01-02  Super Store   \n",
      "3        Belper  BE-18074576            35   2019-09-09        Local   \n",
      "4  Gainsborough  GA-CAD01AC2            36   1995-05-15        Local   \n",
      "\n",
      "   latitude country_code continent  \n",
      "0  -0.74934           GB    Europe  \n",
      "1  12.16179           DE    Europe  \n",
      "2   -2.1875           GB    Europe  \n",
      "3  -1.48119           GB    Europe  \n",
      "4  -0.76667           GB    Europe  \n",
      "\n",
      "\n",
      "Legacy Users Table\n",
      "    index first_name last_name date_of_birth                    company  \\\n",
      "0      0   Sigfried     Noack    1990-09-30         Heydrich Junitz KG   \n",
      "1      1        Guy     Allen    1940-12-01                    Fox Ltd   \n",
      "2      2      Harry  Lawrence    1995-08-02  Johnson, Jones and Harris   \n",
      "3      3     Darren   Hussain    1972-09-23                Wheeler LLC   \n",
      "4      4      Garry     Stone    1952-12-20                 Warner Inc   \n",
      "\n",
      "                  email_address  \\\n",
      "0             rudi79@winkler.de   \n",
      "1  rhodesclifford@henderson.com   \n",
      "2  glen98@bryant-marshall.co.uk   \n",
      "3    daniellebryan@thompson.org   \n",
      "4       billy14@long-warren.com   \n",
      "\n",
      "                                             address         country  \\\n",
      "0                       Zimmerstr. 1/0\\n59015 Gießen         Germany   \n",
      "1  Studio 22a\\nLynne terrace\\nMcCarthymouth\\nTF0 9GH  United Kingdom   \n",
      "2                 92 Ann drive\\nJoanborough\\nSK0 6LR  United Kingdom   \n",
      "3             19 Robinson meadow\\nNew Tracy\\nW22 2QG  United Kingdom   \n",
      "4              3 White pass\\nHunterborough\\nNN96 4UE  United Kingdom   \n",
      "\n",
      "  country_code       phone_number   join_date  \\\n",
      "0           DE   +49(0) 047905356  2018-10-10   \n",
      "1           GB    (0161) 496 0674  2001-12-20   \n",
      "2           GB  +44(0)121 4960340  2016-12-16   \n",
      "3           GB    (0306) 999 0871  2004-02-23   \n",
      "4           GB      0121 496 0225  2006-09-01   \n",
      "\n",
      "                              user_uuid  \n",
      "0  93caf182-e4e9-4c6e-bebb-60a1a9dcf9b8  \n",
      "1  8fe96c3a-d62d-4eb5-b313-cf12d9126a49  \n",
      "2  fc461df4-b919-48b2-909e-55c95a03fe6b  \n",
      "3  6104719f-ef14-4b09-bf04-fb0c4620acb0  \n",
      "4  9523a6d3-b2dd-4670-a51a-36aebc89f579  \n",
      "\n",
      "\n",
      "Orders Table Table\n",
      "    level_0  index                             date_uuid first_name last_name  \\\n",
      "0        0      0  9476f17e-5d6a-4117-874d-9cdb38ca1fa6       None      None   \n",
      "1        1      1  0423a395-a04d-4e4a-bd0f-d237cbd5a295       None      None   \n",
      "2        2      2  65187294-bb16-4519-adc0-787bbe423970       None      None   \n",
      "3        3      3  579e21f7-13cb-436b-83ad-33687a4eb337       None      None   \n",
      "4        4      4  00ab86c3-2039-4674-b9c1-adbcbbf525bd       None      None   \n",
      "\n",
      "                              user_uuid       card_number    store_code  \\\n",
      "0  93caf182-e4e9-4c6e-bebb-60a1a9dcf9b8    30060773296197   BL-8387506C   \n",
      "1  8fe96c3a-d62d-4eb5-b313-cf12d9126a49   349624180933183  WEB-1388012W   \n",
      "2  fc461df4-b919-48b2-909e-55c95a03fe6b  3529023891650490   CH-01D85C8D   \n",
      "3  6104719f-ef14-4b09-bf04-fb0c4620acb0   213142929492281   CL-C183BE4B   \n",
      "4  9523a6d3-b2dd-4670-a51a-36aebc89f579      502067329974   SO-B5B9CB3B   \n",
      "\n",
      "  product_code   1  product_quantity  \n",
      "0  R7-3126933h NaN                 3  \n",
      "1  C2-7287916l NaN                 2  \n",
      "2  S7-1175877v NaN                 2  \n",
      "3  D8-8421505n NaN                 2  \n",
      "4  B6-2596063a NaN                 2  \n",
      "\n",
      "\n"
     ]
    }
   ],
   "source": [
    "import yaml\n",
    "from sqlalchemy import create_engine, inspect\n",
    "\n",
    "\n",
    "class DatabaseConnector:\n",
    "    def __init__(self, creds_path):\n",
    "        self.creds_path = creds_path\n",
    "        self.engine = self.init_db_engine()\n",
    "\n",
    "    def read_db_creds(self):\n",
    "        with open(self.creds_path, 'r') as creds:\n",
    "            credentials = yaml.safe_load(creds)\n",
    "        return dict(credentials)\n",
    "    \n",
    "    def init_db_engine(self):\n",
    "        credentials = self.read_db_creds()\n",
    "        db_url = f\"postgresql://{credentials['RDS_USER']}:{credentials['RDS_PASSWORD']}@{credentials['RDS_HOST']}:{credentials['RDS_PORT']}/{credentials['RDS_DATABASE']}\"\n",
    "        engine = create_engine(db_url)\n",
    "        return engine    \n",
    "\n",
    "    def list_db_tables(self):\n",
    "        inspector = inspect(self.engine)\n",
    "        table_names = inspector.get_table_names()\n",
    "        return table_names    \n",
    "\n",
    "\n",
    "\n",
    "import pandas as pd\n",
    "from database_utils import DatabaseConnector\n",
    "\n",
    "class DataExtractor:\n",
    "\n",
    "    def __init__(self, database_connector):\n",
    "        self.database_connector = database_connector\n",
    "    \n",
    "    def read_rds_table(self, table_name):\n",
    "        tables = self.database_connector.list_db_tables()\n",
    "        \n",
    "        if table_name in tables:\n",
    "            engine = self.database_connector.engine\n",
    "            return pd.read_sql_table(table_name, con=engine)\n",
    "\n",
    "\n",
    "creds_path = '/Users/itsanya/AiCore/MRDC/db_creds.yaml'\n",
    "db_connector_instance = DatabaseConnector(creds_path) \n",
    "data_extractor = DataExtractor(db_connector_instance)  \n",
    "\n",
    "table_to_extract = 'legacy_store_details'\n",
    "legacy_store_details_df = data_extractor.read_rds_table(table_to_extract)\n",
    "print('Legacy Store Details Table\\n', legacy_store_details_df.head())\n",
    "print('\\n')\n",
    "\n",
    "table_to_extract = 'legacy_users'\n",
    "legacy_users_df = data_extractor.read_rds_table(table_to_extract)\n",
    "print('Legacy Users Table\\n', legacy_users_df.head())\n",
    "print('\\n')\n",
    "\n",
    "table_to_extract = 'orders_table'\n",
    "orders_table_df = data_extractor.read_rds_table(table_to_extract)\n",
    "print('Orders Table Table\\n', orders_table_df.head())\n",
    "print('\\n')"
   ]
  },
  {
   "cell_type": "code",
   "execution_count": null,
   "metadata": {},
   "outputs": [],
   "source": [
    "from IPython.display import display\n",
    "\n",
    "with pd.option_context('display.max_rows', None, 'display.max_columns', None):\n",
    "    display(legacy_store_details_df)"
   ]
  },
  {
   "cell_type": "code",
   "execution_count": null,
   "metadata": {},
   "outputs": [],
   "source": [
    "from IPython.display import display\n",
    "\n",
    "with pd.option_context('display.max_rows', None, 'display.max_columns', None):\n",
    "    display(legacy_users_df)"
   ]
  },
  {
   "cell_type": "code",
   "execution_count": 1,
   "metadata": {},
   "outputs": [
    {
     "ename": "NameError",
     "evalue": "name 'pd' is not defined",
     "output_type": "error",
     "traceback": [
      "\u001b[0;31m---------------------------------------------------------------------------\u001b[0m",
      "\u001b[0;31mNameError\u001b[0m                                 Traceback (most recent call last)",
      "Cell \u001b[0;32mIn[1], line 3\u001b[0m\n\u001b[1;32m      1\u001b[0m \u001b[38;5;28;01mfrom\u001b[39;00m \u001b[38;5;21;01mIPython\u001b[39;00m\u001b[38;5;21;01m.\u001b[39;00m\u001b[38;5;21;01mdisplay\u001b[39;00m \u001b[38;5;28;01mimport\u001b[39;00m display\n\u001b[0;32m----> 3\u001b[0m \u001b[38;5;28;01mwith\u001b[39;00m \u001b[43mpd\u001b[49m\u001b[38;5;241m.\u001b[39moption_context(\u001b[38;5;124m'\u001b[39m\u001b[38;5;124mdisplay.max_rows\u001b[39m\u001b[38;5;124m'\u001b[39m, \u001b[38;5;28;01mNone\u001b[39;00m, \u001b[38;5;124m'\u001b[39m\u001b[38;5;124mdisplay.max_columns\u001b[39m\u001b[38;5;124m'\u001b[39m, \u001b[38;5;28;01mNone\u001b[39;00m):\n\u001b[1;32m      4\u001b[0m     display(orders_table_df)\n",
      "\u001b[0;31mNameError\u001b[0m: name 'pd' is not defined"
     ]
    }
   ],
   "source": [
    "from IPython.display import display\n",
    "\n",
    "with pd.option_context('display.max_rows', None, 'display.max_columns', None):\n",
    "    display(orders_table_df)"
   ]
  },
  {
   "cell_type": "code",
   "execution_count": null,
   "metadata": {},
   "outputs": [],
   "source": [
    "with pd.option_context('display.max_rows', None, 'display.max_columns', None): \n",
    "    print(orders_table_df)"
   ]
  },
  {
   "cell_type": "code",
   "execution_count": null,
   "metadata": {},
   "outputs": [],
   "source": [
    "legacy_store_details_df.columns.values.tolist()"
   ]
  },
  {
   "cell_type": "code",
   "execution_count": null,
   "metadata": {},
   "outputs": [],
   "source": [
    "legacy_store_details_df['lat'].unique() #finds unique values in the column specified"
   ]
  },
  {
   "cell_type": "code",
   "execution_count": null,
   "metadata": {},
   "outputs": [],
   "source": [
    "legacy_users_df.columns.values.tolist()"
   ]
  },
  {
   "cell_type": "code",
   "execution_count": null,
   "metadata": {},
   "outputs": [],
   "source": [
    "orders_table_df.columns.values.tolist()"
   ]
  }
 ],
 "metadata": {
  "kernelspec": {
   "display_name": "Python 3",
   "language": "python",
   "name": "python3"
  },
  "language_info": {
   "codemirror_mode": {
    "name": "ipython",
    "version": 3
   },
   "file_extension": ".py",
   "mimetype": "text/x-python",
   "name": "python",
   "nbconvert_exporter": "python",
   "pygments_lexer": "ipython3",
   "version": "3.12.0"
  }
 },
 "nbformat": 4,
 "nbformat_minor": 2
}
